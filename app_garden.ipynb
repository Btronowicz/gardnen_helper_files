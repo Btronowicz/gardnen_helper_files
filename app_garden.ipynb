{
 "cells": [
  {
   "cell_type": "code",
   "execution_count": 6,
   "id": "6466a6d6-905a-4dcf-827a-ca6671878b8b",
   "metadata": {},
   "outputs": [],
   "source": [
    "import tkinter as tk\n",
    "import csv #jezu chryste, dlaczego muszą być podwójne backspacy w windowsie\n",
    "import numpy"
   ]
  },
  {
   "cell_type": "code",
   "execution_count": 11,
   "id": "948d47ee-5612-4c04-964c-c8315729b2f3",
   "metadata": {},
   "outputs": [],
   "source": [
    "class App:\n",
    "    \n",
    "    def __init__(self, master):\n",
    "        \n",
    "        self.master = master\n",
    "        master.title(\"Garden helper\") #name\n",
    "        #master.geometry(\"500x300\")\n",
    "        \n",
    "        self.label = tk.Label(master, text=\"Enter plant name: \") #text\n",
    "        self.label.grid(row=1)\n",
    "        \n",
    "        \n",
    "        vcmd = master.register(self.validate) #to coś jest potrzebne żeby validate zwracało nazwę, nie jestem pewna dlaczego\n",
    "        self.enterspace = tk.Entry(master, validate=\"key\", validatecommand=(vcmd, '%P'))\n",
    "        self.enterspace.grid(row=2)\n",
    "        \n",
    "        self.plantname_button = tk.Button(master, text=\"OK\", command=lambda: self.plantname()) #button1\n",
    "        self.plantname_button.grid(row=3, column=0)#numeracja od 0, row 0 to tutaj self.label\n",
    "\n",
    "        self.close_button = tk.Button(master, text=\"Close\", command=master.destroy) #button2, .quit zawiesza w tle i zawiesza kernel, .destory zamyka okno\n",
    "        self.close_button.grid(row=3, column=1)\n",
    "        \n",
    "    def validate(self, new_text):\n",
    "        if not new_text:\n",
    "            self.entered_text = 0\n",
    "            return True\n",
    "        try:\n",
    "            self.entered_text = str(new_text)\n",
    "            return True\n",
    "        \n",
    "        except ValueError:\n",
    "            return False\n",
    "        \n",
    "    def plantname(self):\n",
    "        file = csv.reader(open(\"C:\\\\Users\\\\Myussi\\\\app_garden_files\\\\database.csv\", \"r\", encoding=\"utf-8\"), delimiter=\",\")\n",
    "        heading = next(file) #usuwa pierwszą półkolumnę\n",
    "        \n",
    "        x = list(file)\n",
    "        result = numpy.array(x).astype(\"str\") #[rząd, kolumna] numeracja od 0\n",
    "        plant = numpy.where(result==self.entered_text)[0]\n",
    "        \n",
    "        print(result[0, :])\n",
    "        for n in plant:\n",
    "            print(result[n, :]) \n",
    "            self.names = tk.Label(wraplength=10000, text=result[0,:]) #idk dlaczego zawija gdzie zawija, jak się ustawi krótszy to dobrze działa ale dłużej nie chce\n",
    "            self.names.grid(row=5, column=0)\n",
    "            self.result = tk.Label(text=result[n, :])\n",
    "            self.result.grid(row=n+5, column=0)\n",
    "                \n",
    "        \n",
    "        #print(self.entered_text)\n",
    "        #print(\"--WIP-- tu będzie odwołanie do bazy danych\")"
   ]
  },
  {
   "cell_type": "code",
   "execution_count": 12,
   "id": "9e8379c8-ee43-4f2f-9c59-fc5e63d2efb6",
   "metadata": {},
   "outputs": [
    {
     "name": "stdout",
     "output_type": "stream",
     "text": [
      "['x' 'łacinska' 'odmiana' 'do ziemi' 'do szklarni ' 'przesadzanie' 'zbiór'\n",
      " 'głębokość [cm]' 'powierzchnia [cmxcm]' 'stanowisko' 'ziemia' 'komentarz']\n",
      "['rzodkiewka' 'raphanus sativus' 'mino early' '5-8' 'x' 'x' '6-10' '2'\n",
      " '1-2' '?' '?' '']\n",
      "['rzodkiewka' 'raphanus sativus' 'sopel lodu' '4-5/7' 'x' 'x' '9'\n",
      " '8-10x25-35' '8-10x2-30' '?' '?' '']\n",
      "['rzodkiewka' '?' 'tetra iłówiecka' '3-8' 'x' 'x' '4-10' '1-2' '2-3x10-20'\n",
      " '?' '?' '']\n"
     ]
    }
   ],
   "source": [
    "root = tk.Tk()\n",
    "my_gui = App(root)\n",
    "root.mainloop() "
   ]
  },
  {
   "cell_type": "code",
   "execution_count": null,
   "id": "649052d9-1c9a-4f42-9559-2fd171dec76a",
   "metadata": {},
   "outputs": [],
   "source": []
  }
 ],
 "metadata": {
  "kernelspec": {
   "display_name": "Python 3 (ipykernel)",
   "language": "python",
   "name": "python3"
  },
  "language_info": {
   "codemirror_mode": {
    "name": "ipython",
    "version": 3
   },
   "file_extension": ".py",
   "mimetype": "text/x-python",
   "name": "python",
   "nbconvert_exporter": "python",
   "pygments_lexer": "ipython3",
   "version": "3.10.13"
  }
 },
 "nbformat": 4,
 "nbformat_minor": 5
}

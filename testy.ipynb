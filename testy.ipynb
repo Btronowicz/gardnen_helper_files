{
 "cells": [
  {
   "cell_type": "code",
   "execution_count": 28,
   "id": "42822597-c540-4acb-b0a4-b84d67193f9e",
   "metadata": {},
   "outputs": [
    {
     "name": "stdout",
     "output_type": "stream",
     "text": [
      "['x' 'łacinska' 'odmiana' 'do ziemi' 'do szklarni ' 'przesadzanie' 'zbiór'\n",
      " 'głębokość [cm]' 'powierzchnia [cmxcm]' 'stanowisko' 'ziemia' 'komentarz']\n",
      "['fasola zwykła karłowa ' 'phaseolus vulgaris' 'kreacja'\n",
      " '5(początek)-7(połowa)' 'x' 'x' '7-10' '2-5' '40-60x10' '?' '?' '']\n"
     ]
    }
   ],
   "source": [
    "import csv #jezu chryste, dlaczego muszą być podwójne backspacy w windowsie\n",
    "import numpy \n",
    "\n",
    "file = csv.reader(open(\"C:\\\\Users\\\\Myussi\\\\app_garden_files\\\\database.csv\", \"r\", encoding=\"utf-8\"), delimiter=\",\")\n",
    "heading = next(file) #usuwa pierwszą półkolumnę\n",
    "\n",
    "\n",
    "x = list(file)\n",
    "result = numpy.array(x).astype(\"str\") #[rząd, kolumna] numeracja od 0\n",
    "\n",
    "print(result[0, :])\n",
    "print(result[5, :])\n",
    "\n",
    "#with open('C:\\\\Users\\\\Myussi\\\\app_garden_files\\\\database.csv', newline='', encoding=\"utf-8\") as file:\n",
    "    \n",
    "    #reader = csv.DictReader(file) #dopasowuje tytuł do kolumny, numeracja od 0\n",
    "    #row = list(reader)\n",
    "    #print(row[0])\n",
    "\n",
    "# to jest bardzo ciekawe ale, ale teraz mi nie pasuje"
   ]
  },
  {
   "cell_type": "code",
   "execution_count": null,
   "id": "e923f165-d653-467d-87dc-7d93501c9253",
   "metadata": {},
   "outputs": [],
   "source": []
  },
  {
   "cell_type": "code",
   "execution_count": null,
   "id": "466b87ba-4fb0-485c-bc43-150e522ad974",
   "metadata": {},
   "outputs": [],
   "source": []
  }
 ],
 "metadata": {
  "kernelspec": {
   "display_name": "Python 3 (ipykernel)",
   "language": "python",
   "name": "python3"
  },
  "language_info": {
   "codemirror_mode": {
    "name": "ipython",
    "version": 3
   },
   "file_extension": ".py",
   "mimetype": "text/x-python",
   "name": "python",
   "nbconvert_exporter": "python",
   "pygments_lexer": "ipython3",
   "version": "3.10.13"
  }
 },
 "nbformat": 4,
 "nbformat_minor": 5
}
